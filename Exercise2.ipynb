{
 "cells": [
  {
   "cell_type": "markdown",
   "id": "e375cc10-0b48-40f3-ba38-c0e20542c54a",
   "metadata": {},
   "source": [
    "### Exercise 2: Wine Quality"
   ]
  },
  {
   "cell_type": "markdown",
   "id": "bb5ee46c-b0ad-4562-814a-bd7f6b40a1ab",
   "metadata": {},
   "source": [
    "#### Part 1: Data preparation and analysis"
   ]
  },
  {
   "cell_type": "markdown",
   "id": "317db91d-e9e6-406a-b641-8b79747b8d47",
   "metadata": {},
   "source": [
    "##### Load the Wine Quality dataset (UCI Machine Learning Repository). Feature analysis of the dataset, check and hundle missing data, distribution of classes and data imbalance."
   ]
  },
  {
   "cell_type": "code",
   "execution_count": 23,
   "id": "a0383563-fba9-4a90-8f8f-c4eea087aa42",
   "metadata": {},
   "outputs": [
    {
     "data": {
      "text/html": [
       "<div>\n",
       "<style scoped>\n",
       "    .dataframe tbody tr th:only-of-type {\n",
       "        vertical-align: middle;\n",
       "    }\n",
       "\n",
       "    .dataframe tbody tr th {\n",
       "        vertical-align: top;\n",
       "    }\n",
       "\n",
       "    .dataframe thead th {\n",
       "        text-align: right;\n",
       "    }\n",
       "</style>\n",
       "<table border=\"1\" class=\"dataframe\">\n",
       "  <thead>\n",
       "    <tr style=\"text-align: right;\">\n",
       "      <th></th>\n",
       "      <th>fixed_acidity</th>\n",
       "      <th>volatile_acidity</th>\n",
       "      <th>citric_acid</th>\n",
       "      <th>residual_sugar</th>\n",
       "      <th>chlorides</th>\n",
       "      <th>free_sulfur_dioxide</th>\n",
       "      <th>total_sulfur_dioxide</th>\n",
       "      <th>density</th>\n",
       "      <th>pH</th>\n",
       "      <th>sulphates</th>\n",
       "      <th>alcohol</th>\n",
       "      <th>quality</th>\n",
       "    </tr>\n",
       "  </thead>\n",
       "  <tbody>\n",
       "    <tr>\n",
       "      <th>0</th>\n",
       "      <td>7.4</td>\n",
       "      <td>0.70</td>\n",
       "      <td>0.00</td>\n",
       "      <td>1.9</td>\n",
       "      <td>0.076</td>\n",
       "      <td>11.0</td>\n",
       "      <td>34.0</td>\n",
       "      <td>0.9978</td>\n",
       "      <td>3.51</td>\n",
       "      <td>0.56</td>\n",
       "      <td>9.4</td>\n",
       "      <td>5</td>\n",
       "    </tr>\n",
       "    <tr>\n",
       "      <th>1</th>\n",
       "      <td>7.8</td>\n",
       "      <td>0.88</td>\n",
       "      <td>0.00</td>\n",
       "      <td>2.6</td>\n",
       "      <td>0.098</td>\n",
       "      <td>25.0</td>\n",
       "      <td>67.0</td>\n",
       "      <td>0.9968</td>\n",
       "      <td>3.20</td>\n",
       "      <td>0.68</td>\n",
       "      <td>9.8</td>\n",
       "      <td>5</td>\n",
       "    </tr>\n",
       "    <tr>\n",
       "      <th>2</th>\n",
       "      <td>7.8</td>\n",
       "      <td>0.76</td>\n",
       "      <td>0.04</td>\n",
       "      <td>2.3</td>\n",
       "      <td>0.092</td>\n",
       "      <td>15.0</td>\n",
       "      <td>54.0</td>\n",
       "      <td>0.9970</td>\n",
       "      <td>3.26</td>\n",
       "      <td>0.65</td>\n",
       "      <td>9.8</td>\n",
       "      <td>5</td>\n",
       "    </tr>\n",
       "    <tr>\n",
       "      <th>3</th>\n",
       "      <td>11.2</td>\n",
       "      <td>0.28</td>\n",
       "      <td>0.56</td>\n",
       "      <td>1.9</td>\n",
       "      <td>0.075</td>\n",
       "      <td>17.0</td>\n",
       "      <td>60.0</td>\n",
       "      <td>0.9980</td>\n",
       "      <td>3.16</td>\n",
       "      <td>0.58</td>\n",
       "      <td>9.8</td>\n",
       "      <td>6</td>\n",
       "    </tr>\n",
       "    <tr>\n",
       "      <th>4</th>\n",
       "      <td>7.4</td>\n",
       "      <td>0.70</td>\n",
       "      <td>0.00</td>\n",
       "      <td>1.9</td>\n",
       "      <td>0.076</td>\n",
       "      <td>11.0</td>\n",
       "      <td>34.0</td>\n",
       "      <td>0.9978</td>\n",
       "      <td>3.51</td>\n",
       "      <td>0.56</td>\n",
       "      <td>9.4</td>\n",
       "      <td>5</td>\n",
       "    </tr>\n",
       "  </tbody>\n",
       "</table>\n",
       "</div>"
      ],
      "text/plain": [
       "   fixed_acidity  volatile_acidity  citric_acid  residual_sugar  chlorides  \\\n",
       "0            7.4              0.70         0.00             1.9      0.076   \n",
       "1            7.8              0.88         0.00             2.6      0.098   \n",
       "2            7.8              0.76         0.04             2.3      0.092   \n",
       "3           11.2              0.28         0.56             1.9      0.075   \n",
       "4            7.4              0.70         0.00             1.9      0.076   \n",
       "\n",
       "   free_sulfur_dioxide  total_sulfur_dioxide  density    pH  sulphates  \\\n",
       "0                 11.0                  34.0   0.9978  3.51       0.56   \n",
       "1                 25.0                  67.0   0.9968  3.20       0.68   \n",
       "2                 15.0                  54.0   0.9970  3.26       0.65   \n",
       "3                 17.0                  60.0   0.9980  3.16       0.58   \n",
       "4                 11.0                  34.0   0.9978  3.51       0.56   \n",
       "\n",
       "   alcohol  quality  \n",
       "0      9.4        5  \n",
       "1      9.8        5  \n",
       "2      9.8        5  \n",
       "3      9.8        6  \n",
       "4      9.4        5  "
      ]
     },
     "execution_count": 23,
     "metadata": {},
     "output_type": "execute_result"
    }
   ],
   "source": [
    "from ucimlrepo import fetch_ucirepo\n",
    "import numpy as np\n",
    "import pandas as pd\n",
    "import matplotlib.pyplot as plt\n",
    "from sklearn.model_selection import train_test_split\n",
    "from sklearn.preprocessing import StandardScaler\n",
    "from sklearn.svm import SVC\n",
    "from sklearn.tree import DecisionTreeClassifier\n",
    "from sklearn.metrics import accuracy_score, f1_score, roc_curve, confusion_matrix, plot_roc_curve\n",
    "import warnings\n",
    "\n",
    "warnings.filterwarnings(\"ignore\")\n",
    "\n",
    "wine_quality = fetch_ucirepo(id=186)\n",
    "features = wine_quality.data.features\n",
    "targets = wine_quality.data.targets\n",
    "df = pd.concat([features, targets], axis=1, ignore_index=False)\n",
    "df.head(5)"
   ]
  },
  {
   "cell_type": "markdown",
   "id": "68ca5f8c-9101-43f3-826e-712e26126186",
   "metadata": {},
   "source": [
    "##### Get the data type of each column in the dataframe."
   ]
  },
  {
   "cell_type": "code",
   "execution_count": 2,
   "id": "b1e5cd07-e74a-4581-925f-37ddb5352b5d",
   "metadata": {},
   "outputs": [
    {
     "data": {
      "text/plain": [
       "fixed_acidity           float64\n",
       "volatile_acidity        float64\n",
       "citric_acid             float64\n",
       "residual_sugar          float64\n",
       "chlorides               float64\n",
       "free_sulfur_dioxide     float64\n",
       "total_sulfur_dioxide    float64\n",
       "density                 float64\n",
       "pH                      float64\n",
       "sulphates               float64\n",
       "alcohol                 float64\n",
       "quality                   int64\n",
       "dtype: object"
      ]
     },
     "execution_count": 2,
     "metadata": {},
     "output_type": "execute_result"
    }
   ],
   "source": [
    "df.dtypes"
   ]
  },
  {
   "cell_type": "markdown",
   "id": "373ba69e-9b2f-46e3-9167-e7d3b117193b",
   "metadata": {},
   "source": [
    "##### Check duplicate values."
   ]
  },
  {
   "cell_type": "code",
   "execution_count": 3,
   "id": "d5ce3137-e467-4024-b5ca-b89a70a84c9c",
   "metadata": {},
   "outputs": [
    {
     "data": {
      "text/plain": [
       "fixed_acidity           106\n",
       "volatile_acidity        187\n",
       "citric_acid              89\n",
       "residual_sugar          316\n",
       "chlorides               214\n",
       "free_sulfur_dioxide     135\n",
       "total_sulfur_dioxide    276\n",
       "density                 998\n",
       "pH                      108\n",
       "sulphates               111\n",
       "alcohol                 111\n",
       "quality                   7\n",
       "dtype: int64"
      ]
     },
     "execution_count": 3,
     "metadata": {},
     "output_type": "execute_result"
    }
   ],
   "source": [
    "df.nunique()"
   ]
  },
  {
   "cell_type": "markdown",
   "id": "b2d592eb-aabc-4f2d-aae6-df3dbc39242a",
   "metadata": {},
   "source": [
    "##### Data information."
   ]
  },
  {
   "cell_type": "code",
   "execution_count": 4,
   "id": "59950b87-0b08-4f5b-bd49-92d7aa1f6fbe",
   "metadata": {},
   "outputs": [
    {
     "name": "stdout",
     "output_type": "stream",
     "text": [
      "<class 'pandas.core.frame.DataFrame'>\n",
      "RangeIndex: 6497 entries, 0 to 6496\n",
      "Data columns (total 12 columns):\n",
      " #   Column                Non-Null Count  Dtype  \n",
      "---  ------                --------------  -----  \n",
      " 0   fixed_acidity         6497 non-null   float64\n",
      " 1   volatile_acidity      6497 non-null   float64\n",
      " 2   citric_acid           6497 non-null   float64\n",
      " 3   residual_sugar        6497 non-null   float64\n",
      " 4   chlorides             6497 non-null   float64\n",
      " 5   free_sulfur_dioxide   6497 non-null   float64\n",
      " 6   total_sulfur_dioxide  6497 non-null   float64\n",
      " 7   density               6497 non-null   float64\n",
      " 8   pH                    6497 non-null   float64\n",
      " 9   sulphates             6497 non-null   float64\n",
      " 10  alcohol               6497 non-null   float64\n",
      " 11  quality               6497 non-null   int64  \n",
      "dtypes: float64(11), int64(1)\n",
      "memory usage: 609.2 KB\n"
     ]
    }
   ],
   "source": [
    "df.info()"
   ]
  },
  {
   "cell_type": "markdown",
   "id": "ef9d195c-b5b6-4530-a130-990b02926757",
   "metadata": {},
   "source": [
    "##### Get statistically description of the numerical data in the dataframe."
   ]
  },
  {
   "cell_type": "code",
   "execution_count": 5,
   "id": "04432b0b-3ff6-4458-b3f2-9388438421d5",
   "metadata": {},
   "outputs": [
    {
     "data": {
      "text/html": [
       "<div>\n",
       "<style scoped>\n",
       "    .dataframe tbody tr th:only-of-type {\n",
       "        vertical-align: middle;\n",
       "    }\n",
       "\n",
       "    .dataframe tbody tr th {\n",
       "        vertical-align: top;\n",
       "    }\n",
       "\n",
       "    .dataframe thead th {\n",
       "        text-align: right;\n",
       "    }\n",
       "</style>\n",
       "<table border=\"1\" class=\"dataframe\">\n",
       "  <thead>\n",
       "    <tr style=\"text-align: right;\">\n",
       "      <th></th>\n",
       "      <th>fixed_acidity</th>\n",
       "      <th>volatile_acidity</th>\n",
       "      <th>citric_acid</th>\n",
       "      <th>residual_sugar</th>\n",
       "      <th>chlorides</th>\n",
       "      <th>free_sulfur_dioxide</th>\n",
       "      <th>total_sulfur_dioxide</th>\n",
       "      <th>density</th>\n",
       "      <th>pH</th>\n",
       "      <th>sulphates</th>\n",
       "      <th>alcohol</th>\n",
       "      <th>quality</th>\n",
       "    </tr>\n",
       "  </thead>\n",
       "  <tbody>\n",
       "    <tr>\n",
       "      <th>count</th>\n",
       "      <td>6497.000000</td>\n",
       "      <td>6497.000000</td>\n",
       "      <td>6497.000000</td>\n",
       "      <td>6497.000000</td>\n",
       "      <td>6497.000000</td>\n",
       "      <td>6497.000000</td>\n",
       "      <td>6497.000000</td>\n",
       "      <td>6497.000000</td>\n",
       "      <td>6497.000000</td>\n",
       "      <td>6497.000000</td>\n",
       "      <td>6497.000000</td>\n",
       "      <td>6497.000000</td>\n",
       "    </tr>\n",
       "    <tr>\n",
       "      <th>mean</th>\n",
       "      <td>7.215307</td>\n",
       "      <td>0.339666</td>\n",
       "      <td>0.318633</td>\n",
       "      <td>5.443235</td>\n",
       "      <td>0.056034</td>\n",
       "      <td>30.525319</td>\n",
       "      <td>115.744574</td>\n",
       "      <td>0.994697</td>\n",
       "      <td>3.218501</td>\n",
       "      <td>0.531268</td>\n",
       "      <td>10.491801</td>\n",
       "      <td>5.818378</td>\n",
       "    </tr>\n",
       "    <tr>\n",
       "      <th>std</th>\n",
       "      <td>1.296434</td>\n",
       "      <td>0.164636</td>\n",
       "      <td>0.145318</td>\n",
       "      <td>4.757804</td>\n",
       "      <td>0.035034</td>\n",
       "      <td>17.749400</td>\n",
       "      <td>56.521855</td>\n",
       "      <td>0.002999</td>\n",
       "      <td>0.160787</td>\n",
       "      <td>0.148806</td>\n",
       "      <td>1.192712</td>\n",
       "      <td>0.873255</td>\n",
       "    </tr>\n",
       "    <tr>\n",
       "      <th>min</th>\n",
       "      <td>3.800000</td>\n",
       "      <td>0.080000</td>\n",
       "      <td>0.000000</td>\n",
       "      <td>0.600000</td>\n",
       "      <td>0.009000</td>\n",
       "      <td>1.000000</td>\n",
       "      <td>6.000000</td>\n",
       "      <td>0.987110</td>\n",
       "      <td>2.720000</td>\n",
       "      <td>0.220000</td>\n",
       "      <td>8.000000</td>\n",
       "      <td>3.000000</td>\n",
       "    </tr>\n",
       "    <tr>\n",
       "      <th>25%</th>\n",
       "      <td>6.400000</td>\n",
       "      <td>0.230000</td>\n",
       "      <td>0.250000</td>\n",
       "      <td>1.800000</td>\n",
       "      <td>0.038000</td>\n",
       "      <td>17.000000</td>\n",
       "      <td>77.000000</td>\n",
       "      <td>0.992340</td>\n",
       "      <td>3.110000</td>\n",
       "      <td>0.430000</td>\n",
       "      <td>9.500000</td>\n",
       "      <td>5.000000</td>\n",
       "    </tr>\n",
       "    <tr>\n",
       "      <th>50%</th>\n",
       "      <td>7.000000</td>\n",
       "      <td>0.290000</td>\n",
       "      <td>0.310000</td>\n",
       "      <td>3.000000</td>\n",
       "      <td>0.047000</td>\n",
       "      <td>29.000000</td>\n",
       "      <td>118.000000</td>\n",
       "      <td>0.994890</td>\n",
       "      <td>3.210000</td>\n",
       "      <td>0.510000</td>\n",
       "      <td>10.300000</td>\n",
       "      <td>6.000000</td>\n",
       "    </tr>\n",
       "    <tr>\n",
       "      <th>75%</th>\n",
       "      <td>7.700000</td>\n",
       "      <td>0.400000</td>\n",
       "      <td>0.390000</td>\n",
       "      <td>8.100000</td>\n",
       "      <td>0.065000</td>\n",
       "      <td>41.000000</td>\n",
       "      <td>156.000000</td>\n",
       "      <td>0.996990</td>\n",
       "      <td>3.320000</td>\n",
       "      <td>0.600000</td>\n",
       "      <td>11.300000</td>\n",
       "      <td>6.000000</td>\n",
       "    </tr>\n",
       "    <tr>\n",
       "      <th>max</th>\n",
       "      <td>15.900000</td>\n",
       "      <td>1.580000</td>\n",
       "      <td>1.660000</td>\n",
       "      <td>65.800000</td>\n",
       "      <td>0.611000</td>\n",
       "      <td>289.000000</td>\n",
       "      <td>440.000000</td>\n",
       "      <td>1.038980</td>\n",
       "      <td>4.010000</td>\n",
       "      <td>2.000000</td>\n",
       "      <td>14.900000</td>\n",
       "      <td>9.000000</td>\n",
       "    </tr>\n",
       "  </tbody>\n",
       "</table>\n",
       "</div>"
      ],
      "text/plain": [
       "       fixed_acidity  volatile_acidity  citric_acid  residual_sugar  \\\n",
       "count    6497.000000       6497.000000  6497.000000     6497.000000   \n",
       "mean        7.215307          0.339666     0.318633        5.443235   \n",
       "std         1.296434          0.164636     0.145318        4.757804   \n",
       "min         3.800000          0.080000     0.000000        0.600000   \n",
       "25%         6.400000          0.230000     0.250000        1.800000   \n",
       "50%         7.000000          0.290000     0.310000        3.000000   \n",
       "75%         7.700000          0.400000     0.390000        8.100000   \n",
       "max        15.900000          1.580000     1.660000       65.800000   \n",
       "\n",
       "         chlorides  free_sulfur_dioxide  total_sulfur_dioxide      density  \\\n",
       "count  6497.000000          6497.000000           6497.000000  6497.000000   \n",
       "mean      0.056034            30.525319            115.744574     0.994697   \n",
       "std       0.035034            17.749400             56.521855     0.002999   \n",
       "min       0.009000             1.000000              6.000000     0.987110   \n",
       "25%       0.038000            17.000000             77.000000     0.992340   \n",
       "50%       0.047000            29.000000            118.000000     0.994890   \n",
       "75%       0.065000            41.000000            156.000000     0.996990   \n",
       "max       0.611000           289.000000            440.000000     1.038980   \n",
       "\n",
       "                pH    sulphates      alcohol      quality  \n",
       "count  6497.000000  6497.000000  6497.000000  6497.000000  \n",
       "mean      3.218501     0.531268    10.491801     5.818378  \n",
       "std       0.160787     0.148806     1.192712     0.873255  \n",
       "min       2.720000     0.220000     8.000000     3.000000  \n",
       "25%       3.110000     0.430000     9.500000     5.000000  \n",
       "50%       3.210000     0.510000    10.300000     6.000000  \n",
       "75%       3.320000     0.600000    11.300000     6.000000  \n",
       "max       4.010000     2.000000    14.900000     9.000000  "
      ]
     },
     "execution_count": 5,
     "metadata": {},
     "output_type": "execute_result"
    }
   ],
   "source": [
    "df.describe()"
   ]
  },
  {
   "cell_type": "markdown",
   "id": "dce58df7-bb71-4f89-b233-4d4267cdf9e9",
   "metadata": {},
   "source": [
    "##### Checks the sum of missing values for each column."
   ]
  },
  {
   "cell_type": "code",
   "execution_count": 6,
   "id": "674fe752-fd7c-40c3-af2d-dca1f834a831",
   "metadata": {},
   "outputs": [
    {
     "data": {
      "text/plain": [
       "fixed_acidity           0\n",
       "volatile_acidity        0\n",
       "citric_acid             0\n",
       "residual_sugar          0\n",
       "chlorides               0\n",
       "free_sulfur_dioxide     0\n",
       "total_sulfur_dioxide    0\n",
       "density                 0\n",
       "pH                      0\n",
       "sulphates               0\n",
       "alcohol                 0\n",
       "quality                 0\n",
       "dtype: int64"
      ]
     },
     "execution_count": 6,
     "metadata": {},
     "output_type": "execute_result"
    }
   ],
   "source": [
    "df.isnull().sum()"
   ]
  },
  {
   "cell_type": "markdown",
   "id": "d0fdd743-742c-4bbc-af13-ac39cf5ef828",
   "metadata": {},
   "source": [
    "##### Distribution of classes and data imbalance."
   ]
  },
  {
   "cell_type": "code",
   "execution_count": 7,
   "id": "4204c24e-85b8-47af-907c-f951db344117",
   "metadata": {},
   "outputs": [
    {
     "data": {
      "image/png": "[encoded data removed]",
      "text/plain": [
       "<Figure size 640x480 with 1 Axes>"
      ]
     },
     "metadata": {},
     "output_type": "display_data"
    }
   ],
   "source": [
    "counts = df['quality'].value_counts()\n",
    "bars = plt.bar(counts.index, counts)\n",
    "for bar in bars:\n",
    "    height = bar.get_height()\n",
    "    plt.text(bar.get_x() + bar.get_width() / 2, bar.get_height(), height, ha='center', va='bottom', fontsize=10)\n",
    "plt.title('Distribution of the Quality')\n",
    "plt.xlabel(\"Quality\")\n",
    "plt.ylabel(\"Count\")\n",
    "plt.show()"
   ]
  },
  {
   "cell_type": "markdown",
   "id": "757c5b2d-3d3e-4518-9a35-71d201722473",
   "metadata": {},
   "source": [
    "##### Split the dataset: Split the data into training set (80%) and test set (20%) and normalize numeric variables."
   ]
  },
  {
   "cell_type": "code",
   "execution_count": 8,
   "id": "c55ff781-603d-4a2a-8b44-795977284a0a",
   "metadata": {},
   "outputs": [],
   "source": [
    "np.random.seed(2)\n",
    "X_train, X_test, y_train, y_test = train_test_split(features, targets, test_size=0.2, random_state=42)\n",
    "\n",
    "scaler = StandardScaler()\n",
    "X_train = scaler.fit_transform(X_train)\n",
    "X_test = scaler.fit_transform(X_test)"
   ]
  },
  {
   "cell_type": "markdown",
   "id": "ffa815e9-9739-4a7f-a17a-9c50680c2efa",
   "metadata": {},
   "source": [
    "#### Part 2: Build and train model"
   ]
  },
  {
   "cell_type": "markdown",
   "id": "266f79ec-b2a9-4df5-962e-3af05f163883",
   "metadata": {},
   "source": [
    "##### Model implementation and training: Train an SVM with different kernels (linear, RBF) and a Binary Decision Tree with different depths tree."
   ]
  },
  {
   "cell_type": "code",
   "execution_count": 21,
   "id": "2960edc6-c2fa-494f-9afe-6d23d23e8b45",
   "metadata": {},
   "outputs": [
    {
     "data": {
      "text/plain": [
       "array([3, 4, 5, 6, 7, 8, 9], dtype=int64)"
      ]
     },
     "execution_count": 21,
     "metadata": {},
     "output_type": "execute_result"
    }
   ],
   "source": [
    "svm_linear = SVC(kernel='linear', random_state=42)\n",
    "svm_linear.fit(X_train, y_train)\n",
    "\n",
    "svm_rbf = SVC(kernel='rbf', random_state=42)\n",
    "svm_rbf.fit(X_train, y_train)\n",
    "\n",
    "dt_depth_3 = DecisionTreeClassifier(max_depth=3, random_state=42)\n",
    "dt_depth_3.fit(X_train, y_train)\n",
    "dt_depth_5 = DecisionTreeClassifier(max_depth=5, random_state=42)\n",
    "dt_depth_5.fit(X_train, y_train)\n",
    "dt_depth_10 = DecisionTreeClassifier(max_depth=10, random_state=42)\n",
    "dt_depth_10.fit(X_train, y_train)\n",
    "\n",
    "classes = svm_linear.classes_\n",
    "classes"
   ]
  },
  {
   "cell_type": "markdown",
   "id": "e7dacd92-d7f4-4843-81b3-3820b9e93edb",
   "metadata": {},
   "source": [
    "##### Evaluation of the models: Calculate accuracy, F1-score, ROC curve and the confusion matrix for each model. Compare the performance of the two methods."
   ]
  },
  {
   "cell_type": "code",
   "execution_count": 26,
   "id": "1bd9d6ad-0a3a-4082-b6d2-a9514f143518",
   "metadata": {},
   "outputs": [
    {
     "name": "stdout",
     "output_type": "stream",
     "text": [
      "                                               SVM (Linear)  \\\n",
      "accuracy                                           0.526154   \n",
      "f1                                                 0.456766   \n",
      "cm        [[0, 0, 3, 3, 0, 0, 0], [0, 0, 28, 15, 0, 0, 0...   \n",
      "\n",
      "                                                  SVM (RBF)  \\\n",
      "accuracy                                           0.561538   \n",
      "f1                                                 0.522439   \n",
      "cm        [[0, 0, 1, 5, 0, 0, 0], [0, 0, 29, 14, 0, 0, 0...   \n",
      "\n",
      "                                    Decision Tree (Depth 3)  \\\n",
      "accuracy                                           0.514615   \n",
      "f1                                                  0.47533   \n",
      "cm        [[0, 0, 2, 4, 0, 0, 0], [0, 0, 19, 23, 1, 0, 0...   \n",
      "\n",
      "                                    Decision Tree (Depth 5)  \\\n",
      "accuracy                                           0.529231   \n",
      "f1                                                 0.494801   \n",
      "cm        [[0, 0, 2, 4, 0, 0, 0], [0, 1, 21, 20, 1, 0, 0...   \n",
      "\n",
      "                                   Decision Tree (Depth 10)  \n",
      "accuracy                                           0.514615  \n",
      "f1                                                 0.506154  \n",
      "cm        [[0, 0, 2, 2, 2, 0, 0], [1, 1, 23, 16, 2, 0, 0...  \n"
     ]
    }
   ],
   "source": [
    "def evaluate(true_y, y_prob):\n",
    "    accuracy = accuracy_score(true_y, y_prob)\n",
    "    f1 = f1_score(true_y, y_prob, average='weighted')\n",
    "    cm = confusion_matrix(true_y, y_prob)\n",
    "    return accuracy, f1, cm\n",
    "\n",
    "y_pred_svm_linear = svm_linear.predict(X_test)\n",
    "y_pred_svm_rbf = svm_rbf.predict(X_test)\n",
    "\n",
    "y_pred_dt_depth_3 = dt_depth_3.predict(X_test)\n",
    "y_pred_dt_depth_5 = dt_depth_5.predict(X_test)\n",
    "y_pred_dt_depth_10 = dt_depth_10.predict(X_test)\n",
    "\n",
    "accuracy_svm_linear,f1_svm_linear,cm_svm_linear = evaluate(y_test, y_pred_svm_linear)\n",
    "accuracy_svm_rbf,f1_svm_rbf,cm_svm_rbf = evaluate(y_test, y_pred_svm_rbf)\n",
    "accuracy_dt_depth_3,f1_dt_depth_3,cm_dt_depth_3 = evaluate(y_test, y_pred_dt_depth_3)\n",
    "accuracy_dt_depth_5,f1_dt_depth_5,cm_dt_depth_5 = evaluate(y_test, y_pred_dt_depth_5)\n",
    "accuracy_dt_depth_10,f1_dt_depth_10,cm_dt_depth_10 = evaluate(y_test, y_pred_dt_depth_10)\n",
    "\n",
    "results = {\n",
    "    'SVM (Linear)': [accuracy_svm_linear,f1_svm_linear,cm_svm_linear],\n",
    "    'SVM (RBF)': [accuracy_svm_rbf,f1_svm_rbf,cm_svm_rbf],\n",
    "    'Decision Tree (Depth 3)': [accuracy_dt_depth_3,f1_dt_depth_3,cm_dt_depth_3],\n",
    "    'Decision Tree (Depth 5)': [accuracy_dt_depth_5,f1_dt_depth_5,cm_dt_depth_5],\n",
    "    'Decision Tree (Depth 10)': [accuracy_dt_depth_10,f1_dt_depth_10,cm_dt_depth_10],\n",
    "}\n",
    "results_df = pd.DataFrame(results, index=['accuracy', 'f1', 'cm'])\n",
    "print(results_df)"
   ]
  },
  {
   "cell_type": "markdown",
   "id": "fc65e158-499b-4bc8-a9d2-8293433bd9bc",
   "metadata": {},
   "source": [
    "#### Part 3: Optimization and Comparison"
   ]
  },
  {
   "cell_type": "code",
   "execution_count": null,
   "id": "e1ba9572-aa61-4b5c-8836-c0ed88bcb508",
   "metadata": {},
   "outputs": [],
   "source": []
  }
 ],
 "metadata": {
  "kernelspec": {
   "display_name": "Python 3 (ipykernel)",
   "language": "python",
   "name": "python3"
  },
  "language_info": {
   "codemirror_mode": {
    "name": "ipython",
    "version": 3
   },
   "file_extension": ".py",
   "mimetype": "text/x-python",
   "name": "python",
   "nbconvert_exporter": "python",
   "pygments_lexer": "ipython3",
   "version": "3.12.6"
  }
 },
 "nbformat": 4,
 "nbformat_minor": 5
}
